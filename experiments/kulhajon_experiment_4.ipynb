{
 "cells": [
  {
   "cell_type": "markdown",
   "metadata": {},
   "source": [
    "## Policy vs Value iteration vs hybrid\n",
    "Run time ~2min"
   ]
  },
  {
   "cell_type": "code",
   "execution_count": 1,
   "metadata": {},
   "outputs": [],
   "source": [
    "import os\n",
    "import math\n",
    "\n",
    "os.chdir(\"../codes\")\n",
    "\n",
    "from ZUI_MDP_solution import *\n",
    "\n",
    "import numpy as np\n",
    "import matplotlib.pyplot as plt\n",
    "%matplotlib inline\n",
    "\n",
    "def ignore_warnings(test_func):\n",
    "    def do_test(*args, **kwargs):\n",
    "        with warnings.catch_warnings():\n",
    "            warnings.simplefilter(\"ignore\")\n",
    "            test_func(*args, **kwargs)\n",
    "    return do_test"
   ]
  },
  {
   "cell_type": "code",
   "execution_count": 47,
   "metadata": {},
   "outputs": [
    {
     "data": {
      "image/png": "[encoded data removed]",
      "text/plain": [
       "<Figure size 432x288 with 1 Axes>"
      ]
     },
     "metadata": {},
     "output_type": "display_data"
    }
   ],
   "source": [
    "steps = 20\n",
    "X = np.linspace(1, 9, steps)\n",
    "X = np.exp(X) + 10\n",
    "Y = np.zeros((X.shape[0], 4), dtype = np.float32)\n",
    "gw = GridWorld.get_world('6x12')\n",
    "\n",
    "def eval_policy(policy):\n",
    "    value = gw.evaluate_policy(policy = policy)\n",
    "    value_s = np.sum(value)\n",
    "    return value_s\n",
    "\n",
    "for i in range(steps):\n",
    "    budget = X[i].astype(int)\n",
    "    \n",
    "    # policy iteration\n",
    "    def evalP():\n",
    "        # the distribution of the budget is focused on doing ten times more iterations then value iterations    \n",
    "        inner_it = int(math.sqrt(budget))\n",
    "        m_iter = budget // inner_it\n",
    "        Q = gw.policy_iteration(max_iter = m_iter, max_iter_eval_iteration = inner_it)\n",
    "        V = gw.Q2V(Q)\n",
    "        policy = gw.Q2policy(Q)\n",
    "        Y[i, 0] = eval_policy(policy)\n",
    "        \n",
    "    ignore_warnings(evalP)()\n",
    "    \n",
    "    # value iteration\n",
    "    def evalV():\n",
    "        Q = gw.value_iteration(max_iter = budget)\n",
    "        V = gw.Q2V(Q)\n",
    "        policy = gw.Q2policy(Q)\n",
    "        Y[i, 1] = eval_policy(policy)\n",
    "        \n",
    "    ignore_warnings(evalV)()\n",
    "        \n",
    "    # hybrid iteration 1\n",
    "    def evalH1(pointer):\n",
    "        # our hybrid approach gives more iterations to the outer loop at the beginging\n",
    "        inner_it = 5\n",
    "        m_iter = max(5, budget // inner_it)\n",
    "        inner_it = min(budget // m_iter, inner_it)        \n",
    "        #print(\"for budget {} inner {} outer {}\".format(budget, inner_it, m_iter))\n",
    "        Q = gw.hybrid_iteration(max_iter = m_iter, max_iter_eval_iteration = inner_it)\n",
    "        V = gw.Q2V(Q)\n",
    "        policy = gw.Q2policy(Q)\n",
    "        Y[i, pointer] = eval_policy(policy)\n",
    "\n",
    "        \n",
    "    ignore_warnings(evalH1)(pointer = 2)\n",
    "    \n",
    "    # hybrid iteration 2\n",
    "    def evalH2(pointer):\n",
    "        # second hybrid approach. Same distributionof budget as policy_iteration but keeps V between iterations\n",
    "        inner_it = int(math.sqrt(budget))\n",
    "        m_iter = budget // inner_it\n",
    "        \n",
    "        Q = gw.hybrid_iteration(max_iter = m_iter, max_iter_eval_iteration = inner_it)\n",
    "        V = gw.Q2V(Q)\n",
    "        policy = gw.Q2policy(Q)\n",
    "        Y[i, pointer] = eval_policy(policy)\n",
    "        \n",
    "    ignore_warnings(evalH2)(pointer = 3)\n",
    "        \n",
    "    \n",
    "    \n",
    "plt.plot(X,Y)\n",
    "plt.legend(['policy iteration', 'value iteration', 'hybrid iteration 1', 'hybrid iteration 2'])\n",
    "plt.xscale('log')\n",
    "plt.xlabel(r'Total number of iterations')\n",
    "plt.ylabel(r'Value of game')\n",
    "plt.savefig('../report/figures/e4.pdf', dpi=500, transparent=True)\n",
    "plt.show()"
   ]
  },
  {
   "cell_type": "code",
   "execution_count": null,
   "metadata": {},
   "outputs": [],
   "source": []
  }
 ],
 "metadata": {
  "kernelspec": {
   "display_name": "Python 3",
   "language": "python",
   "name": "python3"
  },
  "language_info": {
   "codemirror_mode": {
    "name": "ipython",
    "version": 3
   },
   "file_extension": ".py",
   "mimetype": "text/x-python",
   "name": "python",
   "nbconvert_exporter": "python",
   "pygments_lexer": "ipython3",
   "version": "3.5.2"
  }
 },
 "nbformat": 4,
 "nbformat_minor": 2
}
